{
 "cells": [
  {
   "cell_type": "code",
   "execution_count": 1,
   "id": "232cb4e0",
   "metadata": {},
   "outputs": [],
   "source": [
    "import os\n",
    "import numpy as np\n",
    "import matplotlib.pyplot as plt\n",
    "from scipy import integrate\n",
    "import scipy.stats as st\n",
    "from scipy.optimize import minimize\n",
    "import math\n",
    "from multiprocessing import Pool\n",
    "import emcee\n",
    "import seaborn as sns\n",
    "import pandas as pd # Import pandas to handle the data set\n",
    "import itertools\n",
    "\n",
    "def Omega_k(Omega_m0, Omega_l0, Omega_r0):\n",
    "    Omega_k0 = 1 - Omega_m0 - Omega_l0 - Omega_r0\n",
    "    return Omega_k0\n",
    "\n",
    "def E(x, Omega_m0):\n",
    "    Omega_r0 = 0\n",
    "    Omega_l0 = 1 - Omega_m0    \n",
    "    return np.sqrt(Omega_m0*(1+x)**3 + Omega_l0)\n",
    "\n",
    "def IntFunct(x, Omega_m0):\n",
    "    return E(x, Omega_m0)**(-1)\n",
    "\n",
    "def integral(z, Omega_m0):\n",
    "    return integrate.quad(IntFunct,0, z, args=(Omega_m0),epsabs=1.49e-4, epsrel=1.49e-03,full_output = 1)[0]\n",
    "\n",
    "def distancia_luminosidad(z, h0, Omega_m0):\n",
    "    \n",
    "    c = 3 * 10**5 # km / s\n",
    "    intl = integral(z, Omega_m0) \n",
    "    d_L = c * (1 + z) * intl / h0 # solo el caso plano\n",
    "    return d_L\n",
    "\n",
    "def mod_dist(z, h0, Omega_m0):\n",
    "    \n",
    "    c = 3 * 10**5 # km / s\n",
    "    intl = integral(z, Omega_m0) \n",
    "    d_L = c * (1 + z) * intl / h0 # solo el caso plano\n",
    "    return -5+5*np.log10(d_L*10**6)\n",
    "\n",
    "mod_dist_vec = np.vectorize(mod_dist)\n",
    "\n",
    "Omega_r0 = 0.0"
   ]
  },
  {
   "cell_type": "markdown",
   "id": "0ec24efb",
   "metadata": {},
   "source": [
    "# Importamos los datos de UNION"
   ]
  },
  {
   "cell_type": "code",
   "execution_count": 3,
   "id": "0b7692f7",
   "metadata": {
    "scrolled": false
   },
   "outputs": [
    {
     "ename": "FileNotFoundError",
     "evalue": "datos_union.csv not found.",
     "output_type": "error",
     "traceback": [
      "\u001b[1;31m---------------------------------------------------------------------------\u001b[0m",
      "\u001b[1;31mFileNotFoundError\u001b[0m                         Traceback (most recent call last)",
      "Cell \u001b[1;32mIn[3], line 1\u001b[0m\n\u001b[1;32m----> 1\u001b[0m z_vec_union \u001b[38;5;241m=\u001b[39m \u001b[43mnp\u001b[49m\u001b[38;5;241;43m.\u001b[39;49m\u001b[43mgenfromtxt\u001b[49m\u001b[43m(\u001b[49m\u001b[38;5;124;43m\"\u001b[39;49m\u001b[38;5;124;43mdatos_union.csv\u001b[39;49m\u001b[38;5;124;43m\"\u001b[39;49m\u001b[43m,\u001b[49m\u001b[43m \u001b[49m\u001b[43mdelimiter\u001b[49m\u001b[43m \u001b[49m\u001b[38;5;241;43m=\u001b[39;49m\u001b[43m \u001b[49m\u001b[38;5;124;43m\"\u001b[39;49m\u001b[38;5;124;43m;\u001b[39;49m\u001b[38;5;124;43m\"\u001b[39;49m\u001b[43m,\u001b[49m\u001b[43m \u001b[49m\u001b[43musecols\u001b[49m\u001b[43m \u001b[49m\u001b[38;5;241;43m=\u001b[39;49m\u001b[43m \u001b[49m\u001b[38;5;241;43m0\u001b[39;49m\u001b[43m)\u001b[49m\n\u001b[0;32m      2\u001b[0m mu_data_union \u001b[38;5;241m=\u001b[39m np\u001b[38;5;241m.\u001b[39mgenfromtxt(\u001b[38;5;124m\"\u001b[39m\u001b[38;5;124mdatos_union.csv\u001b[39m\u001b[38;5;124m\"\u001b[39m, delimiter \u001b[38;5;241m=\u001b[39m \u001b[38;5;124m\"\u001b[39m\u001b[38;5;124m;\u001b[39m\u001b[38;5;124m\"\u001b[39m, usecols \u001b[38;5;241m=\u001b[39m \u001b[38;5;241m1\u001b[39m)\n\u001b[0;32m      3\u001b[0m mu_err_union \u001b[38;5;241m=\u001b[39m np\u001b[38;5;241m.\u001b[39mgenfromtxt(\u001b[38;5;124m\"\u001b[39m\u001b[38;5;124mdatos_union.csv\u001b[39m\u001b[38;5;124m\"\u001b[39m, delimiter \u001b[38;5;241m=\u001b[39m \u001b[38;5;124m\"\u001b[39m\u001b[38;5;124m;\u001b[39m\u001b[38;5;124m\"\u001b[39m, usecols \u001b[38;5;241m=\u001b[39m \u001b[38;5;241m2\u001b[39m)\n",
      "File \u001b[1;32m~\\anaconda3\\lib\\site-packages\\numpy\\lib\\npyio.py:1959\u001b[0m, in \u001b[0;36mgenfromtxt\u001b[1;34m(fname, dtype, comments, delimiter, skip_header, skip_footer, converters, missing_values, filling_values, usecols, names, excludelist, deletechars, replace_space, autostrip, case_sensitive, defaultfmt, unpack, usemask, loose, invalid_raise, max_rows, encoding, ndmin, like)\u001b[0m\n\u001b[0;32m   1957\u001b[0m     fname \u001b[38;5;241m=\u001b[39m os_fspath(fname)\n\u001b[0;32m   1958\u001b[0m \u001b[38;5;28;01mif\u001b[39;00m \u001b[38;5;28misinstance\u001b[39m(fname, \u001b[38;5;28mstr\u001b[39m):\n\u001b[1;32m-> 1959\u001b[0m     fid \u001b[38;5;241m=\u001b[39m \u001b[43mnp\u001b[49m\u001b[38;5;241;43m.\u001b[39;49m\u001b[43mlib\u001b[49m\u001b[38;5;241;43m.\u001b[39;49m\u001b[43m_datasource\u001b[49m\u001b[38;5;241;43m.\u001b[39;49m\u001b[43mopen\u001b[49m\u001b[43m(\u001b[49m\u001b[43mfname\u001b[49m\u001b[43m,\u001b[49m\u001b[43m \u001b[49m\u001b[38;5;124;43m'\u001b[39;49m\u001b[38;5;124;43mrt\u001b[39;49m\u001b[38;5;124;43m'\u001b[39;49m\u001b[43m,\u001b[49m\u001b[43m \u001b[49m\u001b[43mencoding\u001b[49m\u001b[38;5;241;43m=\u001b[39;49m\u001b[43mencoding\u001b[49m\u001b[43m)\u001b[49m\n\u001b[0;32m   1960\u001b[0m     fid_ctx \u001b[38;5;241m=\u001b[39m contextlib\u001b[38;5;241m.\u001b[39mclosing(fid)\n\u001b[0;32m   1961\u001b[0m \u001b[38;5;28;01melse\u001b[39;00m:\n",
      "File \u001b[1;32m~\\anaconda3\\lib\\site-packages\\numpy\\lib\\_datasource.py:193\u001b[0m, in \u001b[0;36mopen\u001b[1;34m(path, mode, destpath, encoding, newline)\u001b[0m\n\u001b[0;32m    156\u001b[0m \u001b[38;5;124;03m\"\"\"\u001b[39;00m\n\u001b[0;32m    157\u001b[0m \u001b[38;5;124;03mOpen `path` with `mode` and return the file object.\u001b[39;00m\n\u001b[0;32m    158\u001b[0m \n\u001b[1;32m   (...)\u001b[0m\n\u001b[0;32m    189\u001b[0m \n\u001b[0;32m    190\u001b[0m \u001b[38;5;124;03m\"\"\"\u001b[39;00m\n\u001b[0;32m    192\u001b[0m ds \u001b[38;5;241m=\u001b[39m DataSource(destpath)\n\u001b[1;32m--> 193\u001b[0m \u001b[38;5;28;01mreturn\u001b[39;00m \u001b[43mds\u001b[49m\u001b[38;5;241;43m.\u001b[39;49m\u001b[43mopen\u001b[49m\u001b[43m(\u001b[49m\u001b[43mpath\u001b[49m\u001b[43m,\u001b[49m\u001b[43m \u001b[49m\u001b[43mmode\u001b[49m\u001b[43m,\u001b[49m\u001b[43m \u001b[49m\u001b[43mencoding\u001b[49m\u001b[38;5;241;43m=\u001b[39;49m\u001b[43mencoding\u001b[49m\u001b[43m,\u001b[49m\u001b[43m \u001b[49m\u001b[43mnewline\u001b[49m\u001b[38;5;241;43m=\u001b[39;49m\u001b[43mnewline\u001b[49m\u001b[43m)\u001b[49m\n",
      "File \u001b[1;32m~\\anaconda3\\lib\\site-packages\\numpy\\lib\\_datasource.py:533\u001b[0m, in \u001b[0;36mDataSource.open\u001b[1;34m(self, path, mode, encoding, newline)\u001b[0m\n\u001b[0;32m    530\u001b[0m     \u001b[38;5;28;01mreturn\u001b[39;00m _file_openers[ext](found, mode\u001b[38;5;241m=\u001b[39mmode,\n\u001b[0;32m    531\u001b[0m                               encoding\u001b[38;5;241m=\u001b[39mencoding, newline\u001b[38;5;241m=\u001b[39mnewline)\n\u001b[0;32m    532\u001b[0m \u001b[38;5;28;01melse\u001b[39;00m:\n\u001b[1;32m--> 533\u001b[0m     \u001b[38;5;28;01mraise\u001b[39;00m \u001b[38;5;167;01mFileNotFoundError\u001b[39;00m(\u001b[38;5;124mf\u001b[39m\u001b[38;5;124m\"\u001b[39m\u001b[38;5;132;01m{\u001b[39;00mpath\u001b[38;5;132;01m}\u001b[39;00m\u001b[38;5;124m not found.\u001b[39m\u001b[38;5;124m\"\u001b[39m)\n",
      "\u001b[1;31mFileNotFoundError\u001b[0m: datos_union.csv not found."
     ]
    }
   ],
   "source": [
    "z_vec_union = np.genfromtxt(\"datos_union.csv\", delimiter = \";\", usecols = 0)\n",
    "mu_data_union = np.genfromtxt(\"datos_union.csv\", delimiter = \";\", usecols = 1)\n",
    "mu_err_union = np.genfromtxt(\"datos_union.csv\", delimiter = \";\", usecols = 2)\n",
    "\n",
    "\n",
    "\n",
    "z_datos_ordenado, mu_datos_ordenado, mu_error_datos_ordenado = zip(*sorted(zip(z_vec_union, mu_data_union, mu_err_union)))\n",
    "#print(z_datos_ordenado)\n",
    "plt.figure(figsize=(10,7))\n",
    "plt.errorbar(z_datos_ordenado, mu_datos_ordenado, yerr=mu_error_datos_ordenado, fmt = \".k\")"
   ]
  },
  {
   "cell_type": "markdown",
   "id": "2a1bd6ac",
   "metadata": {},
   "source": [
    "# Importamos los datos de JLA"
   ]
  },
  {
   "cell_type": "code",
   "execution_count": null,
   "id": "37e97da1",
   "metadata": {},
   "outputs": [],
   "source": [
    "JLA_z_mu= np.genfromtxt(\"jla_mub_0.csv\", delimiter = ',')\n",
    "cov_matrix = np.genfromtxt(\"jla_mub_covmatrix.csv\", delimiter = ',').reshape(31,31)\n",
    "\n",
    "z_vec_jla = JLA_z_mu[:, 0] \n",
    "mu_data_jla = JLA_z_mu[:, 1]\n",
    "mu_err_jla = np.sqrt(np.diagonal(cov_matrix))\n",
    "\n",
    "\n",
    "plt.figure(figsize=(10,7))\n",
    "plt.errorbar(z_vec_union, mu_data_union, mu_err_union, fmt = \"*\")\n",
    "plt.errorbar(z_vec_jla, mu_data_jla, mu_err_jla, fmt = \".\")\n"
   ]
  },
  {
   "cell_type": "code",
   "execution_count": null,
   "id": "525d78dd",
   "metadata": {},
   "outputs": [],
   "source": [
    "#z_combined = np.concatenate((UNION_z_datos, JLA_z_datos))\n",
    "#mu_combined = np.concatenate((UNION_mu_datos, JLA_mu_datos))\n",
    "#mu_error_combined = np.concatenate((UNION_mu_error_datos, JLA_mu_datos_err))\n",
    "#\n",
    "#plt.figure(figsize=(10,7))\n",
    "#plt.errorbar(z_combined, mu_combined, yerr = mu_error_combined, fmt = \".k\")"
   ]
  },
  {
   "cell_type": "code",
   "execution_count": null,
   "id": "cb19d36b",
   "metadata": {},
   "outputs": [],
   "source": [
    "#z_datos_ordenado, mu_datos_ordenado, mu_error_datos_ordenado = zip(*sorted(zip(z_combined, mu_combined, mu_error_combined)))\n",
    "#\n",
    "#plt.figure(figsize=(10,7))\n",
    "#plt.errorbar(z_datos_ordenado, mu_datos_ordenado, yerr=mu_error_datos_ordenado, fmt = \".k\")\n",
    "#"
   ]
  },
  {
   "cell_type": "code",
   "execution_count": null,
   "id": "dec6d449",
   "metadata": {},
   "outputs": [],
   "source": [
    "def log_likelihood_UNION(theta, z_vec, distancia, yerr):\n",
    "    h0, Omega_m0 = theta # Parámetros a minimizar\n",
    "    Omega_l0 = 1 - Omega_m0\n",
    "    Omega_r0 = 0\n",
    "    model = mod_dist_vec(z_vec, h0, Omega_m0)\n",
    "    sigma2 = np.array(yerr)**2\n",
    "    return -0.5 * np.sum((distancia - model) ** 2 / sigma2)\n",
    "\n",
    "cov_inv = np.linalg.inv(cov_matrix) # Calculating the inverse matrix\n",
    "cov_eigvals = np.linalg.eig(cov_matrix)[1] # Calculates the eigenvalues of the covariance matrix\n",
    "\n",
    "def log_probability_JLA(theta, z_vec, mu_data, cov_matrix, cov_inv, cov_eigvals):\n",
    "    \"\"\"Compute the Gaussian log-likelihood for a given distance modulus data, distance modulus theorical and covariance.\"\"\"\n",
    "    h0, Omega_m0= theta \n",
    "    Omega_r0 = 0.0\n",
    "    cov_len = len(cov_matrix)\n",
    "    mu_model_array = mod_dist_vec(z_vec, h0, Omega_m0)\n",
    "    return -0.5 * (np.matmul((mu_model_array - mu_data) , np.matmul(cov_inv , (mu_model_array - mu_data)))) - .5 * (np.sum(np.log(np.absolute(cov_eigvals[1]))) + cov_len * np.log(2*np.pi))\n",
    "\n",
    "def log_likelihood(theta, z_vec_union, mu_data_union, mu_err_union, z_vec_jla, mu_data_jla, cov_matrix, cov_inv, cov_eigvals):\n",
    "    return log_likelihood_UNION(theta, z_vec_union, mu_data_union, mu_err_union) + log_probability_JLA(theta, z_vec_jla, mu_data_jla, cov_matrix, cov_inv, cov_eigvals)\n",
    "    #return log_probability_JLA(theta, z_vec_jla, mu_data_jla, cov_matrix, cov_inv, cov_eigvals)\n",
    "def log_prior(theta):\n",
    "    h0, Omega_m0 = theta # Parámetros a minimizar\n",
    "    if 50< h0 < 100 and 0 < Omega_m0 < 1: # and and 0.0 < Omega_m0+Omega_l0+Omega_k(Omega_m0, Omega_l0, Omega_r0) <= 1.0\n",
    "        return 0.0\n",
    "    return -np.inf\n",
    "\n",
    "def condition(theta, z):\n",
    "    H, Omega_m0 = theta\n",
    "    Omega_l0 = 1 - Omega_m0\n",
    "    z_max = np.max(z)\n",
    "    result = Omega_m0*(1+z_max)**3  + Omega_k(Omega_m0, Omega_l0, Omega_r0)*(1+z_max)**2 + Omega_l0\n",
    "    if result < 0:\n",
    "        return -np.inf\n",
    "    return result\n",
    "\n",
    "\n",
    "def log_probability(theta, z_vec_union, mu_data_union, mu_err_union, z_vec_jla, mu_data_jla, cov_matrix, cov_inv, cov_eigvals):\n",
    "    if not np.isfinite(log_prior(theta)):\n",
    "        lp = -np.inf\n",
    "        return lp\n",
    "    if not np.isfinite(condition(theta, z_vec_union)):\n",
    "        lp = -np.inf\n",
    "        return lp\n",
    "    if not np.isfinite(condition(theta, z_vec_jla)):\n",
    "        lp = -np.inf\n",
    "        return lp\n",
    "    lp = 0.0\n",
    "    Likelihood = log_likelihood(theta, z_vec_union, mu_data_union, mu_err_union, z_vec_jla, mu_data_jla, cov_matrix, cov_inv, cov_eigvals) +lp\n",
    "    return Likelihood # Si el valor de lp es finito, contruimos la funcion probabilidad"
   ]
  },
  {
   "cell_type": "code",
   "execution_count": null,
   "id": "5ed1c9bf",
   "metadata": {},
   "outputs": [],
   "source": [
    "theta = [67, 0.33]\n",
    "\n",
    "log_likelihood(theta, z_vec_union, mu_data_union, mu_err_union, z_vec_jla, mu_data_jla, cov_matrix, cov_inv, cov_eigvals)\n"
   ]
  },
  {
   "cell_type": "code",
   "execution_count": null,
   "id": "dccb4080",
   "metadata": {},
   "outputs": [],
   "source": [
    "max_n = 10000\n",
    "\n",
    "# We'll track how the average autocorrelation time estimate changes\n",
    "index = 0\n",
    "autocorr = np.empty(max_n)\n",
    "\n",
    "# This will be useful to testing convergence\n",
    "old_tau = np.inf\n",
    "\n",
    "h0_random = np.random.uniform(50, 100, 100)\n",
    "omega_m_random = np.random.uniform(0, 1, 100)\n",
    "pos = []\n",
    "pos = np.column_stack((h0_random, omega_m_random)) # Escribe los 2 vectores como columnas\n",
    "nwalkers, ndim = pos.shape  # nwalker y ndim toma el valor del número de filas y el número de columnas del vector \"pos\", respectivamente.\n",
    "\n",
    "\n",
    "\n",
    "with Pool(processes=6) as pool:\n",
    "    sampler = emcee.EnsembleSampler(\n",
    "    nwalkers, ndim, log_probability, args=(z_vec_union, mu_data_union, mu_err_union, z_vec_jla, mu_data_jla, cov_matrix, cov_inv, cov_eigvals))\n",
    "    # Now we'll sample for up to max_n steps\n",
    "    for sample in sampler.sample(pos, iterations=max_n, progress=True):\n",
    "        # Only check convergence every 100 steps\n",
    "        if sampler.iteration % 100:\n",
    "            continue\n",
    "\n",
    "        # Compute the autocorrelation time so far\n",
    "        # Using tol=0 means that we'll always get an estimate even\n",
    "        # if it isn't trustworthy\n",
    "        tau = sampler.get_autocorr_time(tol=0)\n",
    "        autocorr[index] = np.mean(tau)\n",
    "        index += 1\n",
    "\n",
    "        # Check convergence\n",
    "        converged = np.all(tau * 100 < sampler.iteration)\n",
    "        converged &= np.all(np.abs(old_tau - tau) / tau < 0.01)\n",
    "        if converged:\n",
    "            break\n",
    "        old_tau = tau\n",
    "        n = 100 * np.arange(1, index + 1)\n",
    "        y = autocorr[:index]\n",
    "        plt.plot(n, n / 100.0, \"--k\")\n",
    "        plt.plot(n, y)\n",
    "        plt.xlim(0, n.max())\n",
    "        plt.ylim(0, y.max() + 0.1 * (y.max() - y.min()))\n",
    "        plt.xlabel(\"number of steps\")\n",
    "        plt.ylabel(r\"mean $\\hat{\\tau}$\")\n",
    "        file_name_fig = 'autocorrelation.png'\n",
    "        plt.savefig(file_name_fig)\n",
    "        plt.close()"
   ]
  },
  {
   "cell_type": "code",
   "execution_count": null,
   "id": "54d60833",
   "metadata": {},
   "outputs": [],
   "source": [
    "fig, axes = plt.subplots(2, figsize=(10, 7), sharex=True)\n",
    "samples = sampler.get_chain()\n",
    "labels = [\"$H_0$\", \"$\\Omega_m$\"]\n",
    "for i in range(ndim):\n",
    "    ax = axes[i]\n",
    "    ax.plot(samples[:, :, i], \"k\", alpha=0.3)\n",
    "    ax.set_xlim(0, len(samples))\n",
    "    ax.set_ylabel(labels[i])\n",
    "    ax.yaxis.set_label_coords(-0.1, 0.5)\n",
    "\n",
    "axes[-1].set_xlabel(\"step number\");"
   ]
  },
  {
   "cell_type": "code",
   "execution_count": null,
   "id": "cfca6de7",
   "metadata": {},
   "outputs": [],
   "source": [
    "tau = sampler.get_autocorr_time()  # autocorrelation\n",
    "print(tau)\n",
    "print(\"-----\")\n",
    "burnin = int(2 * np.max(tau))  # burn in phase\n",
    "thin = int(0.5 * np.min(tau))  #\n",
    "flat_samples = sampler.get_chain(discard=burnin, thin=thin, flat=True)\n",
    "print(flat_samples)\n",
    "np.savetxt('flat_samples_union+jla_flat.csv', flat_samples, delimiter = ',')"
   ]
  },
  {
   "cell_type": "code",
   "execution_count": null,
   "id": "38619990",
   "metadata": {},
   "outputs": [],
   "source": [
    "import corner\n",
    "# Parámetros del modelo\n",
    "fig = corner.corner(flat_samples, labels=labels,fill_contours=True,bins=20, color='green', show_titles=True,smooth=1.0, \n",
    "                        label_kwargs={\"fontsize\": 15},title_kwargs={\"fontsize\": 12}, tick_kwargs={\"fontsize\": 15},\n",
    "                        levels=(1-np.exp(-0.5),1-np.exp(-2.0)), range = [(67, 76), (0.16, 0.38)])\n",
    "fig.savefig('corner_union+jla_flat.pdf')"
   ]
  },
  {
   "cell_type": "code",
   "execution_count": null,
   "id": "216695c2",
   "metadata": {},
   "outputs": [],
   "source": []
  }
 ],
 "metadata": {
  "kernelspec": {
   "display_name": "Python 3 (ipykernel)",
   "language": "python",
   "name": "python3"
  },
  "language_info": {
   "codemirror_mode": {
    "name": "ipython",
    "version": 3
   },
   "file_extension": ".py",
   "mimetype": "text/x-python",
   "name": "python",
   "nbconvert_exporter": "python",
   "pygments_lexer": "ipython3",
   "version": "3.10.9"
  }
 },
 "nbformat": 4,
 "nbformat_minor": 5
}
