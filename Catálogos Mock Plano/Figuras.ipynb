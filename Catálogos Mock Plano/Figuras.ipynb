{
 "cells": [
  {
   "cell_type": "code",
   "execution_count": 4,
   "id": "48d38d5b",
   "metadata": {},
   "outputs": [],
   "source": [
    "import numpy as np\n",
    "import matplotlib.pyplot as plt\n",
    "from scipy import integrate\n",
    "from scipy.optimize import minimize\n",
    "import math\n",
    "from multiprocessing import Pool"
   ]
  },
  {
   "cell_type": "markdown",
   "id": "b8161ea1",
   "metadata": {},
   "source": [
    "Leemos los datos de los resultados del análisis"
   ]
  },
  {
   "cell_type": "code",
   "execution_count": 9,
   "id": "926e226a",
   "metadata": {},
   "outputs": [
    {
     "data": {
      "image/png": "[encoded data removed]",
      "text/plain": [
       "<Figure size 800x400 with 2 Axes>"
      ]
     },
     "metadata": {},
     "output_type": "display_data"
    }
   ],
   "source": [
    "# Parámetros del modelo (Para pillar el nombre de los datos)\n",
    "Omega_r0 = 0.0\n",
    "Omega_m0 = 0.30\n",
    "Omega_l0 = 0.70\n",
    "h0 = 70 # km / s * Mpc\n",
    "\n",
    "# P = 100\n",
    "Resultados_100 = np.loadtxt('Resultados_P-' + str(100) + '_H0-' + str(h0) + '_Omega_r-' + str(Omega_r0) + '_Omega_m-' + str(Omega_m0) + '_Omega_l-' + str(Omega_l0) + '.csv', delimiter = ',')\n",
    "Resultados_100_H0 = Resultados_100[0, :]\n",
    "Resultados_100_OM = Resultados_100[1, :]\n",
    "\n",
    "\n",
    "Valor_100_H0 = Resultados_100_H0[0]\n",
    "Error_100_H0 = Resultados_100_H0[1:3]\n",
    "Valor_100_OM = Resultados_100_OM[0]\n",
    "Error_100_OM = Resultados_100_OM[1:3]\n",
    "\n",
    "\n",
    "# P = 300\n",
    "Resultados_300 = np.loadtxt('Resultados_P-' + str(300) + '_H0-' + str(h0) + '_Omega_r-' + str(Omega_r0) + '_Omega_m-' + str(Omega_m0) + '_Omega_l-' + str(Omega_l0) + '.csv', delimiter = ',')\n",
    "Resultados_300_H0 = Resultados_300[0, :]\n",
    "Resultados_300_OM = Resultados_300[1, :]\n",
    "\n",
    "Valor_300_H0 = Resultados_300_H0[0]\n",
    "Error_300_H0 = Resultados_300_H0[1:3]\n",
    "Valor_300_OM = Resultados_300_OM[0]\n",
    "Error_300_OM = Resultados_300_OM[1:3]\n",
    "\n",
    "# P = 600\n",
    "Resultados_600 = np.loadtxt('Resultados_P-' + str(600) + '_H0-' + str(h0) + '_Omega_r-' + str(Omega_r0) + '_Omega_m-' + str(Omega_m0) + '_Omega_l-' + str(Omega_l0) + '.csv', delimiter = ',')\n",
    "Resultados_600_H0 = Resultados_600[0, :]\n",
    "Resultados_600_OM = Resultados_600[1, :]\n",
    "\n",
    "Valor_600_H0 = Resultados_600_H0[0]\n",
    "Error_600_H0 = Resultados_600_H0[1:3]\n",
    "Valor_600_OM = Resultados_600_OM[0]\n",
    "Error_600_OM = Resultados_600_OM[1:3]\n",
    "\n",
    "# P = 1000\n",
    "Resultados_1000 = np.loadtxt('Resultados_P-' + str(1000) + '_H0-' + str(h0) + '_Omega_r-' + str(Omega_r0) + '_Omega_m-' + str(Omega_m0) + '_Omega_l-' + str(Omega_l0) + '.csv', delimiter = ',')\n",
    "Resultados_1000_H0 = Resultados_1000[0, :]\n",
    "Resultados_1000_OM = Resultados_1000[1, :]\n",
    "\n",
    "Valor_1000_H0 = Resultados_1000_H0[0]\n",
    "Error_1000_H0 = Resultados_1000_H0[1:3]\n",
    "Valor_1000_OM = Resultados_1000_OM[0]\n",
    "Error_1000_OM = Resultados_1000_OM[1:3]\n",
    "\n",
    "\n",
    "#Gráfico de H0\n",
    "puntos = np.array([100, 300, 600, 1000])\n",
    "Valores_H0 = np.array([Valor_100_H0, Valor_300_H0, Valor_600_H0, Valor_1000_H0])\n",
    "Errores_H0 = np.transpose(np.array([Error_100_H0, Error_300_H0, Error_600_H0, Error_1000_H0]))\n",
    "#plt.axhline(y=70, color='r', linestyle='-', label = \"Valor real\")\n",
    "#plt.errorbar(puntos, Valores_H0, Errores_H0, fmt =  \".k\", label = \"Valores obtenidos del análisis\")\n",
    "#plt.xlabel(\"Número de puntos del catálogo\")\n",
    "#plt.ylabel(\"$H_0$ (km s$^{-1}$ Mpc$^{-1}$)\")\n",
    "#plt.xticks(puntos)\n",
    "#plt.legend(loc = \"lower right\")\n",
    "#plt.savefig('Figura_H0_P-' + str(100) + '_H0-' + str(h0) + '_Omega_r-' + str(Omega_r0) + '_Omega_m-' + str(Omega_m0) + '_Omega_l-' + str(Omega_l0) + '.pdf')\n",
    "#plt.savefig('Figura_H0_P-' + str(100) + '_H0-' + str(h0) + '_Omega_r-' + str(Omega_r0) + '_Omega_m-' + str(Omega_m0) + '_Omega_l-' + str(Omega_l0) + '.png')\n",
    "#plt.show()\n",
    "\n",
    "#Gráfico de OM\n",
    "Valores_OM = np.array([Valor_100_OM, Valor_300_OM, Valor_600_OM, Valor_1000_OM])\n",
    "Errores_OM = np.transpose(np.array([Error_100_OM, Error_300_OM, Error_600_OM, Error_1000_OM]))\n",
    "#plt.axhline(y=0.30, color='r', linestyle='-', label = \"Valor real\")\n",
    "#plt.errorbar(puntos, Valores_OM, Errores_OM, fmt =  \".k\", label = \"Valores obtenidos del análisis\")\n",
    "#plt.xlabel(\"Número de puntos del catálogo\")\n",
    "#plt.ylabel(\"$\\Omega_m$\")\n",
    "#plt.xticks(puntos)\n",
    "#plt.legend(loc = \"upper right\")\n",
    "#plt.savefig('Figura_OM_P-' + str(100) + '_H0-' + str(h0) + '_Omega_r-' + str(Omega_r0) + '_Omega_m-' + str(Omega_m0) + '_Omega_l-' + str(Omega_l0) + '.pdf')\n",
    "#plt.savefig('Figura_OM_P-' + str(100) + '_H0-' + str(h0) + '_Omega_r-' + str(Omega_r0) + '_Omega_m-' + str(Omega_m0) + '_Omega_l-' + str(Omega_l0) + '.png')\n",
    "#plt.show()\n",
    "\n",
    "\n",
    "# Usando SubPlots\n",
    "fig, (ax1, ax2) = plt.subplots(2, figsize=(8, 4), sharex=True)\n",
    "fig.suptitle('$\\Omega_k = 0$')\n",
    "\n",
    "ax1.errorbar(puntos, Valores_H0, Errores_H0, fmt=\".k\", label=\"Valores obtenidos del análisis\")\n",
    "ax1.set_ylabel(\"$H_0$ (km s$^{-1}$ Mpc$^{-1}$)\")\n",
    "ax1.set_xticks(puntos)\n",
    "ax1.axhline(y=70, color='r', linestyle='-', label = \"Valor real\")\n",
    "ax1.legend(loc = \"lower right\")\n",
    "#ax1.legend(loc=\"lower right\")\n",
    "\n",
    "\n",
    "ax2.errorbar(puntos, Valores_OM, Errores_OM, fmt=\".k\")\n",
    "ax2.set_xlabel(\"Número de puntos del catálogo\")\n",
    "ax2.set_ylabel(\"$\\Omega_m$\")\n",
    "ax2.set_xticks(puntos)\n",
    "ax2.axhline(y=0.30, color='r', linestyle='-')\n",
    "#ax2.legend(loc=\"upper right\")\n",
    "\n",
    "# Crear la leyenda independiente de los subplots\n",
    "# leg = plt.figlegend(loc=(0.25, -0.1), ncol=2)\n",
    "\n",
    "# Ajustar los subplots y la leyenda para evitar superposiciones\n",
    "#plt.tight_layout(rect=[0, 0, 1, 0.9])\n",
    "#plt.subplots_adjust(bottom=0.2)\n",
    "\n",
    "## Shrink current axis by 20%\n",
    "#box = ax1.get_position()\n",
    "#ax1.set_position([box.x0, box.y0, box.width * 0.8, box.height])\n",
    "#\n",
    "## Shrink current axis by 20%\n",
    "#box = ax2.get_position()\n",
    "#ax2.set_position([box.x0, box.y0, box.width * 0.8, box.height])\n",
    "#\n",
    "#\n",
    "## Put a legend to the right of the current axis\n",
    "#ax1.legend(loc='center left', bbox_to_anchor=(1, -1))\n",
    "\n",
    "plt.savefig('Figura_SubPlots_Flat_' + '_H0-' + str(h0) + '_Omega_r-' + str(Omega_r0) + '_Omega_m-' + str(Omega_m0) + '_Omega_l-' + str(Omega_l0) + '.pdf')\n",
    "plt.savefig('Figura_SubPlots_Flat_' + '_H0-' + str(h0) + '_Omega_r-' + str(Omega_r0) + '_Omega_m-' + str(Omega_m0) + '_Omega_l-' + str(Omega_l0) + '.png')\n",
    "\n",
    "\n",
    "plt.show()\n"
   ]
  },
  {
   "cell_type": "code",
   "execution_count": 6,
   "id": "17cb68e8",
   "metadata": {},
   "outputs": [
    {
     "name": "stdout",
     "output_type": "stream",
     "text": [
      "(2, 2)\n"
     ]
    }
   ],
   "source": [
    "prueba = np.array([[1, 2], [3, 4]])\n",
    "print(prueba.shape)"
   ]
  },
  {
   "cell_type": "code",
   "execution_count": null,
   "id": "0b19e640",
   "metadata": {},
   "outputs": [],
   "source": []
  }
 ],
 "metadata": {
  "kernelspec": {
   "display_name": "Python 3 (ipykernel)",
   "language": "python",
   "name": "python3"
  },
  "language_info": {
   "codemirror_mode": {
    "name": "ipython",
    "version": 3
   },
   "file_extension": ".py",
   "mimetype": "text/x-python",
   "name": "python",
   "nbconvert_exporter": "python",
   "pygments_lexer": "ipython3",
   "version": "3.10.9"
  }
 },
 "nbformat": 4,
 "nbformat_minor": 5
}
